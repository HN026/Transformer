{
 "cells": [
  {
   "cell_type": "code",
   "execution_count": 1,
   "id": "fc1ea898",
   "metadata": {},
   "outputs": [
    {
     "name": "stderr",
     "output_type": "stream",
     "text": [
      "Some weights of Wav2Vec2ForCTC were not initialized from the model checkpoint at facebook/wav2vec2-base-960h and are newly initialized: ['wav2vec2.masked_spec_embed']\n",
      "You should probably TRAIN this model on a down-stream task to be able to use it for predictions and inference.\n"
     ]
    }
   ],
   "source": [
    "import torch\n",
    "from transformers import pipeline\n",
    "\n",
    "speech_recognizer = pipeline(\"automatic-speech-recognition\", model=\"facebook/wav2vec2-base-960h\")"
   ]
  },
  {
   "cell_type": "code",
   "execution_count": 2,
   "id": "c26750c3",
   "metadata": {},
   "outputs": [
    {
     "name": "stdout",
     "output_type": "stream",
     "text": [
      "Requirement already satisfied: datasets in /home/huzaifa/miniconda3/envs/tensorflow/lib/python3.9/site-packages (2.14.4)\n",
      "Requirement already satisfied: numpy>=1.17 in /home/huzaifa/miniconda3/envs/tensorflow/lib/python3.9/site-packages (from datasets) (1.24.0)\n",
      "Requirement already satisfied: pyarrow>=8.0.0 in /home/huzaifa/miniconda3/envs/tensorflow/lib/python3.9/site-packages (from datasets) (10.0.1)\n",
      "Requirement already satisfied: dill<0.3.8,>=0.3.0 in /home/huzaifa/miniconda3/envs/tensorflow/lib/python3.9/site-packages (from datasets) (0.3.7)\n",
      "Requirement already satisfied: pandas in /home/huzaifa/miniconda3/envs/tensorflow/lib/python3.9/site-packages (from datasets) (1.5.3)\n",
      "Requirement already satisfied: requests>=2.19.0 in /home/huzaifa/miniconda3/envs/tensorflow/lib/python3.9/site-packages (from datasets) (2.31.0)\n",
      "Requirement already satisfied: tqdm>=4.62.1 in /home/huzaifa/miniconda3/envs/tensorflow/lib/python3.9/site-packages (from datasets) (4.65.0)\n",
      "Requirement already satisfied: xxhash in /home/huzaifa/miniconda3/envs/tensorflow/lib/python3.9/site-packages (from datasets) (3.3.0)\n",
      "Requirement already satisfied: multiprocess in /home/huzaifa/miniconda3/envs/tensorflow/lib/python3.9/site-packages (from datasets) (0.70.15)\n",
      "Requirement already satisfied: fsspec[http]>=2021.11.1 in /home/huzaifa/miniconda3/envs/tensorflow/lib/python3.9/site-packages (from datasets) (2023.6.0)\n",
      "Requirement already satisfied: aiohttp in /home/huzaifa/miniconda3/envs/tensorflow/lib/python3.9/site-packages (from datasets) (3.8.5)\n",
      "Requirement already satisfied: huggingface-hub<1.0.0,>=0.14.0 in /home/huzaifa/miniconda3/envs/tensorflow/lib/python3.9/site-packages (from datasets) (0.16.4)\n",
      "Requirement already satisfied: packaging in /home/huzaifa/miniconda3/envs/tensorflow/lib/python3.9/site-packages (from datasets) (23.1)\n",
      "Requirement already satisfied: pyyaml>=5.1 in /home/huzaifa/miniconda3/envs/tensorflow/lib/python3.9/site-packages (from datasets) (6.0.1)\n",
      "Requirement already satisfied: attrs>=17.3.0 in /home/huzaifa/miniconda3/envs/tensorflow/lib/python3.9/site-packages (from aiohttp->datasets) (23.1.0)\n",
      "Requirement already satisfied: charset-normalizer<4.0,>=2.0 in /home/huzaifa/miniconda3/envs/tensorflow/lib/python3.9/site-packages (from aiohttp->datasets) (3.1.0)\n",
      "Requirement already satisfied: multidict<7.0,>=4.5 in /home/huzaifa/miniconda3/envs/tensorflow/lib/python3.9/site-packages (from aiohttp->datasets) (6.0.4)\n",
      "Requirement already satisfied: async-timeout<5.0,>=4.0.0a3 in /home/huzaifa/miniconda3/envs/tensorflow/lib/python3.9/site-packages (from aiohttp->datasets) (4.0.2)\n",
      "Requirement already satisfied: yarl<2.0,>=1.0 in /home/huzaifa/miniconda3/envs/tensorflow/lib/python3.9/site-packages (from aiohttp->datasets) (1.9.2)\n",
      "Requirement already satisfied: frozenlist>=1.1.1 in /home/huzaifa/miniconda3/envs/tensorflow/lib/python3.9/site-packages (from aiohttp->datasets) (1.4.0)\n",
      "Requirement already satisfied: aiosignal>=1.1.2 in /home/huzaifa/miniconda3/envs/tensorflow/lib/python3.9/site-packages (from aiohttp->datasets) (1.3.1)\n",
      "Requirement already satisfied: filelock in /home/huzaifa/miniconda3/envs/tensorflow/lib/python3.9/site-packages (from huggingface-hub<1.0.0,>=0.14.0->datasets) (3.12.2)\n",
      "Requirement already satisfied: typing-extensions>=3.7.4.3 in /home/huzaifa/miniconda3/envs/tensorflow/lib/python3.9/site-packages (from huggingface-hub<1.0.0,>=0.14.0->datasets) (4.6.3)\n",
      "Requirement already satisfied: idna<4,>=2.5 in /home/huzaifa/miniconda3/envs/tensorflow/lib/python3.9/site-packages (from requests>=2.19.0->datasets) (3.4)\n",
      "Requirement already satisfied: urllib3<3,>=1.21.1 in /home/huzaifa/miniconda3/envs/tensorflow/lib/python3.9/site-packages (from requests>=2.19.0->datasets) (1.26.16)\n",
      "Requirement already satisfied: certifi>=2017.4.17 in /home/huzaifa/miniconda3/envs/tensorflow/lib/python3.9/site-packages (from requests>=2.19.0->datasets) (2023.5.7)\n",
      "Requirement already satisfied: python-dateutil>=2.8.1 in /home/huzaifa/miniconda3/envs/tensorflow/lib/python3.9/site-packages (from pandas->datasets) (2.8.2)\n",
      "Requirement already satisfied: pytz>=2020.1 in /home/huzaifa/miniconda3/envs/tensorflow/lib/python3.9/site-packages (from pandas->datasets) (2022.7)\n",
      "Requirement already satisfied: six>=1.5 in /home/huzaifa/miniconda3/envs/tensorflow/lib/python3.9/site-packages (from python-dateutil>=2.8.1->pandas->datasets) (1.16.0)\n",
      "Note: you may need to restart the kernel to use updated packages.\n"
     ]
    }
   ],
   "source": [
    "pip install datasets"
   ]
  },
  {
   "cell_type": "code",
   "execution_count": 3,
   "id": "7e75590a",
   "metadata": {},
   "outputs": [
    {
     "name": "stdout",
     "output_type": "stream",
     "text": [
      "{'id': '5733be284776f41900661182', 'title': 'University_of_Notre_Dame', 'context': 'Architecturally, the school has a Catholic character. Atop the Main Building\\'s gold dome is a golden statue of the Virgin Mary. Immediately in front of the Main Building and facing it, is a copper statue of Christ with arms upraised with the legend \"Venite Ad Me Omnes\". Next to the Main Building is the Basilica of the Sacred Heart. Immediately behind the basilica is the Grotto, a Marian place of prayer and reflection. It is a replica of the grotto at Lourdes, France where the Virgin Mary reputedly appeared to Saint Bernadette Soubirous in 1858. At the end of the main drive (and in a direct line that connects through 3 statues and the Gold Dome), is a simple, modern stone statue of Mary.', 'question': 'To whom did the Virgin Mary allegedly appear in 1858 in Lourdes France?', 'answers': {'text': ['Saint Bernadette Soubirous'], 'answer_start': [515]}}\n"
     ]
    }
   ],
   "source": [
    "from datasets import load_dataset; print(load_dataset('squad', split='train')[0])"
   ]
  },
  {
   "cell_type": "code",
   "execution_count": 4,
   "id": "db08c5aa",
   "metadata": {},
   "outputs": [
    {
     "name": "stdout",
     "output_type": "stream",
     "text": [
      "Requirement already satisfied: datasets[audio] in /home/huzaifa/miniconda3/envs/tensorflow/lib/python3.9/site-packages (2.14.4)\n",
      "Requirement already satisfied: numpy>=1.17 in /home/huzaifa/miniconda3/envs/tensorflow/lib/python3.9/site-packages (from datasets[audio]) (1.24.0)\n",
      "Requirement already satisfied: pyarrow>=8.0.0 in /home/huzaifa/miniconda3/envs/tensorflow/lib/python3.9/site-packages (from datasets[audio]) (10.0.1)\n",
      "Requirement already satisfied: dill<0.3.8,>=0.3.0 in /home/huzaifa/miniconda3/envs/tensorflow/lib/python3.9/site-packages (from datasets[audio]) (0.3.7)\n",
      "Requirement already satisfied: pandas in /home/huzaifa/miniconda3/envs/tensorflow/lib/python3.9/site-packages (from datasets[audio]) (1.5.3)\n",
      "Requirement already satisfied: requests>=2.19.0 in /home/huzaifa/miniconda3/envs/tensorflow/lib/python3.9/site-packages (from datasets[audio]) (2.31.0)\n",
      "Requirement already satisfied: tqdm>=4.62.1 in /home/huzaifa/miniconda3/envs/tensorflow/lib/python3.9/site-packages (from datasets[audio]) (4.65.0)\n",
      "Requirement already satisfied: xxhash in /home/huzaifa/miniconda3/envs/tensorflow/lib/python3.9/site-packages (from datasets[audio]) (3.3.0)\n",
      "Requirement already satisfied: multiprocess in /home/huzaifa/miniconda3/envs/tensorflow/lib/python3.9/site-packages (from datasets[audio]) (0.70.15)\n",
      "Requirement already satisfied: fsspec[http]>=2021.11.1 in /home/huzaifa/miniconda3/envs/tensorflow/lib/python3.9/site-packages (from datasets[audio]) (2023.6.0)\n",
      "Requirement already satisfied: aiohttp in /home/huzaifa/miniconda3/envs/tensorflow/lib/python3.9/site-packages (from datasets[audio]) (3.8.5)\n",
      "Requirement already satisfied: huggingface-hub<1.0.0,>=0.14.0 in /home/huzaifa/miniconda3/envs/tensorflow/lib/python3.9/site-packages (from datasets[audio]) (0.16.4)\n",
      "Requirement already satisfied: packaging in /home/huzaifa/miniconda3/envs/tensorflow/lib/python3.9/site-packages (from datasets[audio]) (23.1)\n",
      "Requirement already satisfied: pyyaml>=5.1 in /home/huzaifa/miniconda3/envs/tensorflow/lib/python3.9/site-packages (from datasets[audio]) (6.0.1)\n",
      "Requirement already satisfied: soundfile>=0.12.1 in /home/huzaifa/miniconda3/envs/tensorflow/lib/python3.9/site-packages (from datasets[audio]) (0.12.1)\n",
      "Requirement already satisfied: librosa in /home/huzaifa/miniconda3/envs/tensorflow/lib/python3.9/site-packages (from datasets[audio]) (0.10.1)\n",
      "Requirement already satisfied: attrs>=17.3.0 in /home/huzaifa/miniconda3/envs/tensorflow/lib/python3.9/site-packages (from aiohttp->datasets[audio]) (23.1.0)\n",
      "Requirement already satisfied: charset-normalizer<4.0,>=2.0 in /home/huzaifa/miniconda3/envs/tensorflow/lib/python3.9/site-packages (from aiohttp->datasets[audio]) (3.1.0)\n",
      "Requirement already satisfied: multidict<7.0,>=4.5 in /home/huzaifa/miniconda3/envs/tensorflow/lib/python3.9/site-packages (from aiohttp->datasets[audio]) (6.0.4)\n",
      "Requirement already satisfied: async-timeout<5.0,>=4.0.0a3 in /home/huzaifa/miniconda3/envs/tensorflow/lib/python3.9/site-packages (from aiohttp->datasets[audio]) (4.0.2)\n",
      "Requirement already satisfied: yarl<2.0,>=1.0 in /home/huzaifa/miniconda3/envs/tensorflow/lib/python3.9/site-packages (from aiohttp->datasets[audio]) (1.9.2)\n",
      "Requirement already satisfied: frozenlist>=1.1.1 in /home/huzaifa/miniconda3/envs/tensorflow/lib/python3.9/site-packages (from aiohttp->datasets[audio]) (1.4.0)\n",
      "Requirement already satisfied: aiosignal>=1.1.2 in /home/huzaifa/miniconda3/envs/tensorflow/lib/python3.9/site-packages (from aiohttp->datasets[audio]) (1.3.1)\n",
      "Requirement already satisfied: filelock in /home/huzaifa/miniconda3/envs/tensorflow/lib/python3.9/site-packages (from huggingface-hub<1.0.0,>=0.14.0->datasets[audio]) (3.12.2)\n",
      "Requirement already satisfied: typing-extensions>=3.7.4.3 in /home/huzaifa/miniconda3/envs/tensorflow/lib/python3.9/site-packages (from huggingface-hub<1.0.0,>=0.14.0->datasets[audio]) (4.6.3)\n",
      "Requirement already satisfied: idna<4,>=2.5 in /home/huzaifa/miniconda3/envs/tensorflow/lib/python3.9/site-packages (from requests>=2.19.0->datasets[audio]) (3.4)\n",
      "Requirement already satisfied: urllib3<3,>=1.21.1 in /home/huzaifa/miniconda3/envs/tensorflow/lib/python3.9/site-packages (from requests>=2.19.0->datasets[audio]) (1.26.16)\n",
      "Requirement already satisfied: certifi>=2017.4.17 in /home/huzaifa/miniconda3/envs/tensorflow/lib/python3.9/site-packages (from requests>=2.19.0->datasets[audio]) (2023.5.7)\n",
      "Requirement already satisfied: cffi>=1.0 in /home/huzaifa/miniconda3/envs/tensorflow/lib/python3.9/site-packages (from soundfile>=0.12.1->datasets[audio]) (1.15.0)\n",
      "Requirement already satisfied: audioread>=2.1.9 in /home/huzaifa/miniconda3/envs/tensorflow/lib/python3.9/site-packages (from librosa->datasets[audio]) (3.0.0)\n",
      "Requirement already satisfied: scipy>=1.2.0 in /home/huzaifa/miniconda3/envs/tensorflow/lib/python3.9/site-packages (from librosa->datasets[audio]) (1.10.1)\n",
      "Requirement already satisfied: scikit-learn>=0.20.0 in /home/huzaifa/miniconda3/envs/tensorflow/lib/python3.9/site-packages (from librosa->datasets[audio]) (1.2.2)\n",
      "Requirement already satisfied: joblib>=0.14 in /home/huzaifa/miniconda3/envs/tensorflow/lib/python3.9/site-packages (from librosa->datasets[audio]) (1.2.0)\n",
      "Requirement already satisfied: decorator>=4.3.0 in /home/huzaifa/miniconda3/envs/tensorflow/lib/python3.9/site-packages (from librosa->datasets[audio]) (5.1.1)\n",
      "Requirement already satisfied: numba>=0.51.0 in /home/huzaifa/miniconda3/envs/tensorflow/lib/python3.9/site-packages (from librosa->datasets[audio]) (0.57.1)\n",
      "Requirement already satisfied: pooch>=1.0 in /home/huzaifa/miniconda3/envs/tensorflow/lib/python3.9/site-packages (from librosa->datasets[audio]) (1.7.0)\n",
      "Requirement already satisfied: soxr>=0.3.2 in /home/huzaifa/miniconda3/envs/tensorflow/lib/python3.9/site-packages (from librosa->datasets[audio]) (0.3.6)\n",
      "Requirement already satisfied: lazy-loader>=0.1 in /home/huzaifa/miniconda3/envs/tensorflow/lib/python3.9/site-packages (from librosa->datasets[audio]) (0.3)\n",
      "Requirement already satisfied: msgpack>=1.0 in /home/huzaifa/miniconda3/envs/tensorflow/lib/python3.9/site-packages (from librosa->datasets[audio]) (1.0.5)\n",
      "Requirement already satisfied: python-dateutil>=2.8.1 in /home/huzaifa/miniconda3/envs/tensorflow/lib/python3.9/site-packages (from pandas->datasets[audio]) (2.8.2)\n",
      "Requirement already satisfied: pytz>=2020.1 in /home/huzaifa/miniconda3/envs/tensorflow/lib/python3.9/site-packages (from pandas->datasets[audio]) (2022.7)\n",
      "Requirement already satisfied: pycparser in /home/huzaifa/miniconda3/envs/tensorflow/lib/python3.9/site-packages (from cffi>=1.0->soundfile>=0.12.1->datasets[audio]) (2.21)\n",
      "Requirement already satisfied: llvmlite<0.41,>=0.40.0dev0 in /home/huzaifa/miniconda3/envs/tensorflow/lib/python3.9/site-packages (from numba>=0.51.0->librosa->datasets[audio]) (0.40.1)\n",
      "Requirement already satisfied: platformdirs>=2.5.0 in /home/huzaifa/miniconda3/envs/tensorflow/lib/python3.9/site-packages (from pooch>=1.0->librosa->datasets[audio]) (2.6.2)\n",
      "Requirement already satisfied: six>=1.5 in /home/huzaifa/miniconda3/envs/tensorflow/lib/python3.9/site-packages (from python-dateutil>=2.8.1->pandas->datasets[audio]) (1.16.0)\n",
      "Requirement already satisfied: threadpoolctl>=2.0.0 in /home/huzaifa/miniconda3/envs/tensorflow/lib/python3.9/site-packages (from scikit-learn>=0.20.0->librosa->datasets[audio]) (3.1.0)\n",
      "Note: you may need to restart the kernel to use updated packages.\n"
     ]
    }
   ],
   "source": [
    "pip install datasets[audio]"
   ]
  },
  {
   "cell_type": "code",
   "execution_count": 5,
   "id": "1aed5ed1",
   "metadata": {},
   "outputs": [],
   "source": [
    "from datasets import load_dataset, Audio\n",
    "dataset = load_dataset(\"PolyAI/minds14\", name=\"en-US\", split=\"train\")"
   ]
  },
  {
   "cell_type": "code",
   "execution_count": 6,
   "id": "0e4ceb25",
   "metadata": {},
   "outputs": [],
   "source": [
    "dataset = dataset.cast_column(\"audio\", Audio(sampling_rate=speech_recognizer.feature_extractor.sampling_rate))"
   ]
  },
  {
   "cell_type": "code",
   "execution_count": 7,
   "id": "688e4287",
   "metadata": {},
   "outputs": [
    {
     "name": "stdout",
     "output_type": "stream",
     "text": [
      "Requirement already satisfied: numba in /home/huzaifa/miniconda3/envs/tensorflow/lib/python3.9/site-packages (0.57.1)\n",
      "Requirement already satisfied: llvmlite<0.41,>=0.40.0dev0 in /home/huzaifa/miniconda3/envs/tensorflow/lib/python3.9/site-packages (from numba) (0.40.1)\n",
      "Requirement already satisfied: numpy<1.25,>=1.21 in /home/huzaifa/miniconda3/envs/tensorflow/lib/python3.9/site-packages (from numba) (1.24.0)\n",
      "Note: you may need to restart the kernel to use updated packages.\n"
     ]
    }
   ],
   "source": [
    "pip install numba --upgrade"
   ]
  },
  {
   "cell_type": "code",
   "execution_count": 8,
   "id": "896c762a",
   "metadata": {},
   "outputs": [
    {
     "name": "stdout",
     "output_type": "stream",
     "text": [
      "['I WOULD LIKE TO SET UP A JOINT ACCOUNT WITH MY PARTNER HOW DO I PROCEED WITH DOING THAT', \"FONDERING HOW I'D SET UP A JOIN TO HELL T WITH MY WIFE AND WHERE THE AP MIGHT BE\", \"I I'D LIKE TOY SET UP A JOINT ACCOUNT WITH MY PARTNER I'M NOT SEEING THE OPTION TO DO IT ON THE APSO I CALLED IN TO GET SOME HELP CAN I JUST DO IT OVER THE PHONE WITH YOU AND GIVE YOU THE INFORMATION OR SHOULD I DO IT IN THE AP AN I'M MISSING SOMETHING UQUETTE HAD PREFERRED TO JUST DO IT OVER THE PHONE OF POSSIBLE THINGS\", 'HOW DO I FURN A JOINA COUT']\n"
     ]
    }
   ],
   "source": [
    "result = speech_recognizer(dataset[:4][\"audio\"])\n",
    "print([d[\"text\"] for d in result])"
   ]
  },
  {
   "cell_type": "code",
   "execution_count": 9,
   "id": "ed0ebba6",
   "metadata": {},
   "outputs": [
    {
     "name": "stdout",
     "output_type": "stream",
     "text": [
      "Requirement already satisfied: numpy==1.24 in /home/huzaifa/miniconda3/envs/tensorflow/lib/python3.9/site-packages (1.24.0)\n",
      "Note: you may need to restart the kernel to use updated packages.\n"
     ]
    }
   ],
   "source": [
    "pip install numpy==1.24"
   ]
  },
  {
   "cell_type": "code",
   "execution_count": 10,
   "id": "06065359",
   "metadata": {},
   "outputs": [
    {
     "name": "stdout",
     "output_type": "stream",
     "text": [
      "['I WOULD LIKE TO SET UP A JOINT ACCOUNT WITH MY PARTNER HOW DO I PROCEED WITH DOING THAT', \"FONDERING HOW I'D SET UP A JOIN TO HELL T WITH MY WIFE AND WHERE THE AP MIGHT BE\", \"I I'D LIKE TOY SET UP A JOINT ACCOUNT WITH MY PARTNER I'M NOT SEEING THE OPTION TO DO IT ON THE APSO I CALLED IN TO GET SOME HELP CAN I JUST DO IT OVER THE PHONE WITH YOU AND GIVE YOU THE INFORMATION OR SHOULD I DO IT IN THE AP AN I'M MISSING SOMETHING UQUETTE HAD PREFERRED TO JUST DO IT OVER THE PHONE OF POSSIBLE THINGS\", 'HOW DO I FURN A JOINA COUT']\n"
     ]
    }
   ],
   "source": [
    "result = speech_recognizer(dataset[:4][\"audio\"])\n",
    "print([d[\"text\"] for d in result])"
   ]
  },
  {
   "cell_type": "code",
   "execution_count": null,
   "id": "90e87e6e",
   "metadata": {},
   "outputs": [],
   "source": []
  }
 ],
 "metadata": {
  "kernelspec": {
   "display_name": "Python [conda env:tensorflow] *",
   "language": "python",
   "name": "conda-env-tensorflow-py"
  },
  "language_info": {
   "codemirror_mode": {
    "name": "ipython",
    "version": 3
   },
   "file_extension": ".py",
   "mimetype": "text/x-python",
   "name": "python",
   "nbconvert_exporter": "python",
   "pygments_lexer": "ipython3",
   "version": "3.9.16"
  }
 },
 "nbformat": 4,
 "nbformat_minor": 5
}
